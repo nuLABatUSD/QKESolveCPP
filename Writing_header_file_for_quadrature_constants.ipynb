{
 "cells": [
  {
   "cell_type": "code",
   "execution_count": 11,
   "id": "be6db3e5",
   "metadata": {},
   "outputs": [],
   "source": [
    "import numpy as np"
   ]
  },
  {
   "cell_type": "code",
   "execution_count": 12,
   "id": "4e0671e5",
   "metadata": {},
   "outputs": [],
   "source": [
    "f = open(\"quad_vals.hh\", \"w\")"
   ]
  },
  {
   "cell_type": "code",
   "execution_count": 13,
   "id": "c18227cf",
   "metadata": {},
   "outputs": [],
   "source": [
    "n=50\n",
    "x,w = np.polynomial.laguerre.laggauss(n)"
   ]
  },
  {
   "cell_type": "code",
   "execution_count": 14,
   "id": "9f00d83f",
   "metadata": {},
   "outputs": [
    {
     "data": {
      "text/plain": [
       "20"
      ]
     },
     "execution_count": 14,
     "metadata": {},
     "output_type": "execute_result"
    }
   ],
   "source": [
    "f.write(\"const int nvals = \" + str(n) + \";\")\n",
    "f.write(\"const double xvals[\" + str(n) + \"] = {\")\n",
    "for i in x[:-1]:\n",
    "    f.write(str(i) + \",\")\n",
    "f.write"
   ]
  },
  {
   "cell_type": "code",
   "execution_count": 15,
   "id": "4c1a31e9",
   "metadata": {},
   "outputs": [],
   "source": [
    "f.close()"
   ]
  },
  {
   "cell_type": "code",
   "execution_count": null,
   "id": "e7157752",
   "metadata": {},
   "outputs": [],
   "source": []
  }
 ],
 "metadata": {
  "kernelspec": {
   "display_name": "Python 3 (ipykernel)",
   "language": "python",
   "name": "python3"
  },
  "language_info": {
   "codemirror_mode": {
    "name": "ipython",
    "version": 3
   },
   "file_extension": ".py",
   "mimetype": "text/x-python",
   "name": "python",
   "nbconvert_exporter": "python",
   "pygments_lexer": "ipython3",
   "version": "3.11.5"
  }
 },
 "nbformat": 4,
 "nbformat_minor": 5
}
