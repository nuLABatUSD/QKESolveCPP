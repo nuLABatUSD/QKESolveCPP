{
 "cells": [
  {
   "cell_type": "code",
   "execution_count": 50,
   "id": "be6db3e5",
   "metadata": {},
   "outputs": [],
   "source": [
    "import numpy as np"
   ]
  },
  {
   "cell_type": "code",
   "execution_count": 12,
   "id": "4e0671e5",
   "metadata": {},
   "outputs": [],
   "source": [
    "f = open(\"quad_vals.hh\", \"w\")"
   ]
  },
  {
   "cell_type": "code",
   "execution_count": 13,
   "id": "c18227cf",
   "metadata": {},
   "outputs": [],
   "source": [
    "n=50\n",
    "x,w = np.polynomial.laguerre.laggauss(n)"
   ]
  },
  {
   "cell_type": "code",
   "execution_count": 14,
   "id": "9f00d83f",
   "metadata": {},
   "outputs": [
    {
     "data": {
      "text/plain": [
       "20"
      ]
     },
     "execution_count": 14,
     "metadata": {},
     "output_type": "execute_result"
    }
   ],
   "source": [
    "f.write(\"const int nvals = \" + str(n) + \";\")\n",
    "f.write(\"const double xvals[\" + str(n) + \"] = {\")\n",
    "for i in x[:-1]:\n",
    "    f.write(str(i) + \",\")\n",
    "f.write"
   ]
  },
  {
   "cell_type": "code",
   "execution_count": 15,
   "id": "4c1a31e9",
   "metadata": {},
   "outputs": [],
   "source": [
    "f.close()"
   ]
  },
  {
   "cell_type": "code",
   "execution_count": 67,
   "id": "e7157752",
   "metadata": {},
   "outputs": [],
   "source": [
    "f = open(\"gl_vals.hh\", \"w\")"
   ]
  },
  {
   "cell_type": "code",
   "execution_count": 68,
   "id": "b45334b2",
   "metadata": {},
   "outputs": [],
   "source": [
    "n=2\n",
    "x,w = np.polynomial.laguerre.laggauss(n)"
   ]
  },
  {
   "cell_type": "code",
   "execution_count": 69,
   "id": "4f4ff1ec",
   "metadata": {},
   "outputs": [
    {
     "data": {
      "text/plain": [
       "<function TextIOWrapper.write(text, /)>"
      ]
     },
     "execution_count": 69,
     "metadata": {},
     "output_type": "execute_result"
    }
   ],
   "source": [
    "f.write(\"const int nvals_2 = \" + str(n) + \";\\n\")\n",
    "f.write(\"const double xvals_2[\" + str(n) + \"] = {\")\n",
    "for i in x[:-1]:\n",
    "    f.write(str(i) + \",\")\n",
    "f.write(str(x[n-1]) + \"};\\n\")\n",
    "f.write(\"const double wvals_2[\" + str(n) + \"] = {\")\n",
    "for i in w[:-1]:\n",
    "    f.write(str(i) + \",\")\n",
    "f.write(str(w[n-1]) + \"};\\n\")\n",
    "f.write"
   ]
  },
  {
   "cell_type": "code",
   "execution_count": 70,
   "id": "6a0116d0",
   "metadata": {},
   "outputs": [],
   "source": [
    "n=5\n",
    "x,w = np.polynomial.laguerre.laggauss(n)"
   ]
  },
  {
   "cell_type": "code",
   "execution_count": 71,
   "id": "c67af0da",
   "metadata": {},
   "outputs": [
    {
     "data": {
      "text/plain": [
       "<function TextIOWrapper.write(text, /)>"
      ]
     },
     "execution_count": 71,
     "metadata": {},
     "output_type": "execute_result"
    }
   ],
   "source": [
    "f.write(\"const int nvals_5 = \" + str(n) + \";\\n\")\n",
    "f.write(\"const double xvals_5[\" + str(n) + \"] = {\")\n",
    "for i in x[:-1]:\n",
    "    f.write(str(i) + \",\")\n",
    "f.write(str(x[n-1]) + \"};\\n\")\n",
    "f.write(\"const double wvals_5[\" + str(n) + \"] = {\")\n",
    "for i in w[:-1]:\n",
    "    f.write(str(i) + \",\")\n",
    "f.write(str(w[n-1]) + \"};\\n\")\n",
    "f.write"
   ]
  },
  {
   "cell_type": "code",
   "execution_count": 72,
   "id": "cf511ad1",
   "metadata": {},
   "outputs": [],
   "source": [
    "n=10\n",
    "x,w = np.polynomial.laguerre.laggauss(n)"
   ]
  },
  {
   "cell_type": "code",
   "execution_count": 73,
   "id": "4de1ba0a",
   "metadata": {},
   "outputs": [
    {
     "data": {
      "text/plain": [
       "<function TextIOWrapper.write(text, /)>"
      ]
     },
     "execution_count": 73,
     "metadata": {},
     "output_type": "execute_result"
    }
   ],
   "source": [
    "f.write(\"const int nvals_10 = \" + str(n) + \";\\n\")\n",
    "f.write(\"const double xvals_10[\" + str(n) + \"] = {\")\n",
    "for i in x[:-1]:\n",
    "    f.write(str(i) + \",\")\n",
    "f.write(str(x[n-1]) + \"};\\n\")\n",
    "f.write(\"const double wvals_10[\" + str(n) + \"] = {\")\n",
    "for i in w[:-1]:\n",
    "    f.write(str(i) + \",\")\n",
    "f.write(str(w[n-1]) + \"};\\n\")\n",
    "f.write"
   ]
  },
  {
   "cell_type": "code",
   "execution_count": 74,
   "id": "107d9bf9",
   "metadata": {},
   "outputs": [],
   "source": [
    "f.close()"
   ]
  },
  {
   "cell_type": "code",
   "execution_count": null,
   "id": "230f2aa6",
   "metadata": {},
   "outputs": [],
   "source": []
  }
 ],
 "metadata": {
  "kernelspec": {
   "display_name": "Python 3 (ipykernel)",
   "language": "python",
   "name": "python3"
  },
  "language_info": {
   "codemirror_mode": {
    "name": "ipython",
    "version": 3
   },
   "file_extension": ".py",
   "mimetype": "text/x-python",
   "name": "python",
   "nbconvert_exporter": "python",
   "pygments_lexer": "ipython3",
   "version": "3.11.7"
  }
 },
 "nbformat": 4,
 "nbformat_minor": 5
}
