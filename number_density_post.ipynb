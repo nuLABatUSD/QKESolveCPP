{
 "cells": [
  {
   "cell_type": "code",
   "execution_count": 1,
   "id": "9e79925f",
   "metadata": {},
   "outputs": [],
   "source": [
    "import numpy as np"
   ]
  },
  {
   "cell_type": "code",
   "execution_count": null,
   "id": "afe540ed",
   "metadata": {},
   "outputs": [],
   "source": [
    "#find "
   ]
  },
  {
   "cell_type": "code",
   "execution_count": 2,
   "id": "9514866e",
   "metadata": {
    "collapsed": true
   },
   "outputs": [
    {
     "ename": "SyntaxError",
     "evalue": "incomplete input (616651418.py, line 1)",
     "output_type": "error",
     "traceback": [
      "\u001b[0;36m  Cell \u001b[0;32mIn[2], line 1\u001b[0;36m\u001b[0m\n\u001b[0;31m    def n():\u001b[0m\n\u001b[0m            ^\u001b[0m\n\u001b[0;31mSyntaxError\u001b[0m\u001b[0;31m:\u001b[0m incomplete input\n"
     ]
    }
   ],
   "source": [
    "def n():"
   ]
  },
  {
   "cell_type": "code",
   "execution_count": null,
   "id": "2bae51b0",
   "metadata": {},
   "outputs": [],
   "source": [
    "def dn_dt():"
   ]
  },
  {
   "cell_type": "code",
   "execution_count": null,
   "id": "4a0b02da",
   "metadata": {},
   "outputs": [],
   "source": [
    "def d_nue_dt():\n",
    "    \n",
    "    \n",
    "def d_numu_dt():"
   ]
  }
 ],
 "metadata": {
  "kernelspec": {
   "display_name": "Python 3 (ipykernel)",
   "language": "python",
   "name": "python3"
  },
  "language_info": {
   "codemirror_mode": {
    "name": "ipython",
    "version": 3
   },
   "file_extension": ".py",
   "mimetype": "text/x-python",
   "name": "python",
   "nbconvert_exporter": "python",
   "pygments_lexer": "ipython3",
   "version": "3.11.7"
  }
 },
 "nbformat": 4,
 "nbformat_minor": 5
}
