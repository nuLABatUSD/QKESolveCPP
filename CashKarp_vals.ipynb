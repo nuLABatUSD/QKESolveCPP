{
 "cells": [
  {
   "cell_type": "code",
   "execution_count": 1,
   "id": "6918ea90",
   "metadata": {},
   "outputs": [],
   "source": [
    "a2 = 1/5\n",
    "a3 = 3/10\n",
    "a4 = 3/5\n",
    "a5 = 1\n",
    "a6 = 7/8\n",
    "\n",
    "b21 = 1/5\n",
    "b31 = 3/40\n",
    "b41 = 3/10\n",
    "b51 = -11/54\n",
    "b61 = 1631/55296\n",
    "b32 = 9/40\n",
    "b42 = -9/10\n",
    "b52 = 5/2\n",
    "b62 = 175/512\n",
    "b43 = 6/5\n",
    "b53 = -70/27\n",
    "b63 = 575/13824\n",
    "b54 = 35/27\n",
    "b64 = 44275/110592\n",
    "b65 = 253/4096\n",
    "\n",
    "c1 = 37/378\n",
    "c2 = 0\n",
    "c3 = 250/621\n",
    "c4 = 125/594\n",
    "c5 = 0\n",
    "c6 = 512/1771\n",
    "\n",
    "cstar1 = 2825/27648\n",
    "cstar2 = 0\n",
    "cstar3 = 18575/48384\n",
    "cstar4 = 13525/55296\n",
    "cstar5 = 277/14336\n",
    "cstar6 = 1/4\n",
    "\n",
    "constant_names = ['a2', 'b21', 'b31', 'b32', 'b41', 'b42', 'b43', 'b51', 'b52', 'b53', 'b54', 'b61', 'b62', 'b63', 'b64', 'b65', 'c1', 'c2', 'c3', 'c4', 'c5', 'c6', 'cstar1', 'cstar2', 'cstar3', 'cstar4', 'cstar5', 'cstar6']"
   ]
  },
  {
   "cell_type": "code",
   "execution_count": 2,
   "id": "ed5e1615",
   "metadata": {},
   "outputs": [],
   "source": [
    "f = open(\"CashKarp_vals.hh\", \"w\")\n",
    "\n",
    "for i in constant_names:\n",
    "    # eval can get the value for the variable based on its string name\n",
    "    value = eval(i)\n",
    "    f.write(\"const double \" + i + \" = \" + str(value) + \";\\n\")\n",
    "    \n",
    "f.close()"
   ]
  },
  {
   "cell_type": "code",
   "execution_count": null,
   "id": "a522ae2b",
   "metadata": {},
   "outputs": [],
   "source": []
  }
 ],
 "metadata": {
  "kernelspec": {
   "display_name": "Python 3 (ipykernel)",
   "language": "python",
   "name": "python3"
  },
  "language_info": {
   "codemirror_mode": {
    "name": "ipython",
    "version": 3
   },
   "file_extension": ".py",
   "mimetype": "text/x-python",
   "name": "python",
   "nbconvert_exporter": "python",
   "pygments_lexer": "ipython3",
   "version": "3.9.13"
  }
 },
 "nbformat": 4,
 "nbformat_minor": 5
}
