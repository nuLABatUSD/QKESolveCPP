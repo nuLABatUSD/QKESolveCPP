{
 "cells": [
  {
   "cell_type": "code",
   "execution_count": 1,
   "id": "4c811fb6",
   "metadata": {},
   "outputs": [],
   "source": [
    "import numpy as np\n",
    "#from ODESolve import ODEOneRun, ODESolve_n_Save"
   ]
  },
  {
   "cell_type": "code",
   "execution_count": 2,
   "id": "0edeb0ed",
   "metadata": {},
   "outputs": [],
   "source": [
    "a2 = 0.2\n",
    "a3 = 0.3\n",
    "a4 = 0.6\n",
    "a5 = 1\n",
    "a6 = 0.875\n",
    "b21 = 0.2\n",
    "b31 = 0.075\n",
    "b32 = 0.225\n",
    "b41 = 0.3\n",
    "b42 = -0.9\n",
    "b43 = 1.2\n",
    "b51 = -0.2037037037037037\n",
    "b52 = 2.5\n",
    "b53 = -2.5925925925925926\n",
    "b54 = 1.2962962962962963\n",
    "b61 = 0.029495804398148147\n",
    "b62 = 0.341796875\n",
    "b63 = 0.041594328703703706\n",
    "b64 = 0.40034541377314814\n",
    "b65 = 0.061767578125\n",
    "c1 = 0.09788359788359788\n",
    "c2 = 0\n",
    "c3 = 0.4025764895330113\n",
    "c4 = 0.21043771043771045\n",
    "c5 = 0\n",
    "c6 = 0.2891022021456804\n",
    "cstar1 = 0.10217737268518519\n",
    "cstar2 = 0\n",
    "cstar3 = 0.38390790343915343\n",
    "cstar4 = 0.24459273726851852\n",
    "cstar5 = 0.019321986607142856\n",
    "cstar6 = 0.25"
   ]
  },
  {
   "cell_type": "markdown",
   "id": "341ad56b",
   "metadata": {},
   "source": [
    "a2 = 1/5\n",
    "a3 = 3/10\n",
    "a4 = 3/5\n",
    "a5 = 1\n",
    "a6 = 7/8\n",
    "\n",
    "b21 = 1/5\n",
    "b31 = 3/40\n",
    "b41 = 3/10\n",
    "b51 = -11/54\n",
    "b61 = 1631/55296\n",
    "b32 = 9/40\n",
    "b42 = -9/10\n",
    "b52 = 5/2\n",
    "b62 = 175/512\n",
    "b43 = 6/5\n",
    "b53 = -70/27\n",
    "b63 = 575/13824\n",
    "b54 = 35/27\n",
    "b64 = 44275/110592\n",
    "b65 = 253/4096\n",
    "\n",
    "c1 = 37/378\n",
    "c2 = 0\n",
    "c3 = 250/621\n",
    "c4 = 125/594\n",
    "c5 = 0\n",
    "c6 = 512/1771\n",
    "\n",
    "cstar1 = 2825/27648\n",
    "cstar2 = 0\n",
    "cstar3 = 18575/48384\n",
    "cstar4 = 13525/55296\n",
    "cstar5 = 277/14336\n",
    "cstar6 = 1/4"
   ]
  },
  {
   "cell_type": "code",
   "execution_count": 3,
   "id": "4f1665ca",
   "metadata": {},
   "outputs": [],
   "source": [
    "def f(x, y):\n",
    "    derivatives = np.zeros(4)\n",
    "    derivatives[0] = y[1]\n",
    "    derivatives[1] = y[2]\n",
    "    derivatives[2] = y[3]\n",
    "    derivatives[3] = np.pi**4 * y[0]\n",
    "    \n",
    "    return derivatives\n",
    "\n",
    "def RKCash_Karp(x, y, dx): \n",
    "    k1 = dx * f(x, y)\n",
    "    print(\"k1:\", k1)\n",
    "    k2 = dx * f(x + a2*dx, y + b21*k1)\n",
    "    print(\"k2:\", k2)\n",
    "    k3 = dx * f(x + a3*dx, y + b31*k1 + b32*k2)\n",
    "    print(\"k3:\", k3)\n",
    "    k4 = dx * f(x + a4*dx, y + b41*k1 + b42*k2 +b43*k3)\n",
    "    print(\"k4:\", k4)\n",
    "    temp_y_k5 = y + b51 * k1 + b52 * k2 + b53 * k3 + b54 * k4\n",
    "    k5 = dx * f(x + a5 * dx, temp_y_k5)\n",
    "    print(\"temp_y_k5:\", temp_y_k5)\n",
    "    print(\"k5:\", k5)\n",
    "    k6 = dx * f(x + a6*dx, y + b61*k1 + b62*k2 + b63*k3 + b64*k4 + b65*k5)\n",
    "    print(\"k6:\", k6)\n",
    "    \n",
    "    y_5th = y + c1*k1 + c2*k2 + c3*k3 + c4*k4 + c5*k5 + c6*k6 \n",
    "    y_4th = y + cstar1*k1 + cstar2*k2 + cstar3*k3 + cstar4*k4 + cstar5*k5 + cstar6*k6 \n",
    "    x_stepped = x + dx\n",
    "    \n",
    "    return x_stepped, y_5th, y_4th\n"
   ]
  },
  {
   "cell_type": "code",
   "execution_count": 4,
   "id": "2db394f3",
   "metadata": {},
   "outputs": [
    {
     "name": "stdout",
     "output_type": "stream",
     "text": [
      "k1: [0.1       0.1       0.1       9.7409091]\n",
      "k2: [0.102      0.102      0.29481818 9.93572729]\n",
      "k3: [ 0.103045    0.10738341  0.39661068 10.03751979]\n",
      "k4: [ 0.10670601  0.12405965  0.70251419 10.3434233 ]\n",
      "temp_y_k5: [ 1.10579853  1.11704626  1.59909171 11.24000082]\n",
      "k5: [ 0.11170463  0.15990917  1.12400008 10.77148297]\n",
      "k6: [ 0.11018233  0.14708894  0.99070909 10.63432517]\n"
     ]
    }
   ],
   "source": [
    "x0 = 0\n",
    "y0 = np.array([1, 1, 1, 1])\n",
    "dx0 = 0.1\n",
    "\n",
    "\n",
    "x_stepped, y_5th, y_4th = RKCash_Karp(x0, y0, dx0)"
   ]
  },
  {
   "cell_type": "code",
   "execution_count": 5,
   "id": "eabc3b2f",
   "metadata": {},
   "outputs": [
    {
     "name": "stdout",
     "output_type": "stream",
     "text": [
      "x_stepped= 0.1\n",
      "y_5th= [ 1.10558078  1.12164896  1.60370615 11.24539785]\n",
      "y_4th= [ 1.10558098  1.12164916  1.60370477 11.24541764]\n"
     ]
    }
   ],
   "source": [
    "print(\"x_stepped=\", x_stepped)\n",
    "print(\"y_5th=\", y_5th)\n",
    "print(\"y_4th=\", y_4th)"
   ]
  },
  {
   "cell_type": "code",
   "execution_count": null,
   "id": "42b71f95",
   "metadata": {},
   "outputs": [],
   "source": []
  }
 ],
 "metadata": {
  "kernelspec": {
   "display_name": "Python 3 (ipykernel)",
   "language": "python",
   "name": "python3"
  },
  "language_info": {
   "codemirror_mode": {
    "name": "ipython",
    "version": 3
   },
   "file_extension": ".py",
   "mimetype": "text/x-python",
   "name": "python",
   "nbconvert_exporter": "python",
   "pygments_lexer": "ipython3",
   "version": "3.9.13"
  }
 },
 "nbformat": 4,
 "nbformat_minor": 5
}
