{
 "cells": [
  {
   "cell_type": "code",
   "execution_count": 1,
   "id": "4c811fb6",
   "metadata": {},
   "outputs": [],
   "source": [
    "import numpy as np"
   ]
  },
  {
   "cell_type": "code",
   "execution_count": 2,
   "id": "0edeb0ed",
   "metadata": {},
   "outputs": [],
   "source": [
    "a2 = 0.2\n",
    "a3 = 0.3\n",
    "a4 = 0.6\n",
    "a5 = 1\n",
    "a6 = 0.875\n",
    "b21 = 0.2\n",
    "b31 = 0.075\n",
    "b32 = 0.225\n",
    "b41 = 0.3\n",
    "b42 = -0.9\n",
    "b43 = 1.2\n",
    "b51 = -0.2037037037037037\n",
    "b52 = 2.5\n",
    "b53 = -2.5925925925925926\n",
    "b54 = 1.2962962962962963\n",
    "b61 = 0.029495804398148147\n",
    "b62 = 0.341796875\n",
    "b63 = 0.041594328703703706\n",
    "b64 = 0.40034541377314814\n",
    "b65 = 0.061767578125\n",
    "c1 = 0.09788359788359788\n",
    "c2 = 0\n",
    "c3 = 0.4025764895330113\n",
    "c4 = 0.21043771043771045\n",
    "c5 = 0\n",
    "c6 = 0.2891022021456804\n",
    "cstar1 = 0.10217737268518519\n",
    "cstar2 = 0\n",
    "cstar3 = 0.38390790343915343\n",
    "cstar4 = 0.24459273726851852\n",
    "cstar5 = 0.019321986607142856\n",
    "cstar6 = 0.25"
   ]
  },
  {
   "cell_type": "code",
   "execution_count": 9,
   "id": "19f0f4d7",
   "metadata": {},
   "outputs": [],
   "source": [
    "def f(x, y):\n",
    "    derivatives = np.zeros(4)\n",
    "    derivatives[0] = y[1]\n",
    "    derivatives[1] = y[2]\n",
    "    derivatives[2] = y[3]\n",
    "    derivatives[3] = np.pi**4 * y[0]\n",
    "    \n",
    "    return derivatives\n",
    "\n",
    "y0 = np.array([1, 1, 1, 1])\n",
    "\n",
    "x0 = 0\n",
    "dx0 = 0.5"
   ]
  },
  {
   "cell_type": "markdown",
   "id": "b273f792",
   "metadata": {},
   "source": [
    "def f(x,y):\n",
    "    derivatives = np.zeros(3)\n",
    "    derivatives[0] = 1\n",
    "    derivatives[1] = x\n",
    "    derivatives[2] = 1/(x+1)\n",
    "    \n",
    "    return derivatives\n",
    "    \n",
    "y0 = 0"
   ]
  },
  {
   "cell_type": "code",
   "execution_count": 10,
   "id": "4f1665ca",
   "metadata": {},
   "outputs": [],
   "source": [
    "def RKCash_Karp(x, y, dx): \n",
    "    k1 = dx * f(x, y)\n",
    "   # print(\"k1:\", k1)\n",
    "    k2 = dx * f(x + a2*dx, y + b21*k1)\n",
    "   # print(\"k2:\", k2)\n",
    "    k3 = dx * f(x + a3*dx, y + b31*k1 + b32*k2)\n",
    "   # print(\"z3=y + b31*k1 ----> \", y + b31*k1)\n",
    "   # print(\"z3=y + b31*k1 + b32*k2 ----> \", y + b31*k1 + b32*k2)\n",
    "   # print(\"k3:\", k3)\n",
    "    k4 = dx * f(x + a4*dx, y + b41*k1 + b42*k2 +b43*k3)\n",
    "    #print(\"k4:\", k4)\n",
    "    k5 = dx * f(x + a5 * dx, y + b51 * k1 + b52 * k2 + b53 * k3 + b54 * k4)\n",
    "    #print(\"k5:\", k5)\n",
    "    k6 = dx * f(x + a6*dx, y + b61*k1 + b62*k2 + b63*k3 + b64*k4 + b65*k5)\n",
    "    #print(\"k6:\", k6)\n",
    "    \n",
    "    y_5th = y + c1*k1 + c2*k2 + c3*k3 + c4*k4 + c5*k5 + c6*k6 \n",
    "    y_4th = y + cstar1*k1 + cstar2*k2 + cstar3*k3 + cstar4*k4 + cstar5*k5 + cstar6*k6 \n",
    "    x_stepped = x + dx\n",
    "    print('x_stepped = ', x_stepped)\n",
    "    \n",
    "    return x_stepped, y_5th, y_4th\n",
    "\n",
    "\n",
    "def RKCK_step(x, y, dx):\n",
    "\n",
    "    \n",
    "    dx_try = dx\n",
    "    for i in range(10):\n",
    "        x_next, y5, y4 = RKCash_Karp(x, y, dx_try)\n",
    "        dx_try, done = step_accept(y, y5, y4, dx_try)\n",
    "        if done:\n",
    "            break\n",
    "    if not done:\n",
    "        print(\"ERROR:  10 iterations without acceptable step\")\n",
    "        #np.savez(\"error-report\", x = x, y = y, dx = dx)\n",
    "        \n",
    "    return x_next, y5, dx_try\n",
    "    \n",
    "eps = 1e-8\n",
    "TINY = 1e-40\n",
    "Safety = 0.9\n",
    "\n",
    "def step_accept(y, y5, y4, dx):\n",
    "    \n",
    "    \n",
    "    delta1 = np.abs(y5-y4)\n",
    "    delta0 = eps * (np.abs(y) + np.abs(y5-y)) + TINY\n",
    "\n",
    "    \n",
    "    dsm = np.max(delta1/delta0)\n",
    "    print(\"DSM = \", dsm)\n",
    "    if dsm == 0:\n",
    "        dx_new = 5 * dx\n",
    "        print(\"TRUE (dsm == 0) dx_new = \", dx_new)\n",
    "        return dx_new, True\n",
    "    elif dsm < 1:\n",
    "        dx_new = Safety * dx * dsm**-0.2\n",
    "        dx_new = min(5.0 * dx, dx_new)\n",
    "        print(\"TRUE (dsm<1) dx_new = \", dx_new)\n",
    "        return dx_new, True\n",
    "    else:\n",
    "        dx_new = Safety * dx * dsm**-0.25\n",
    "        print(\"FALSE dx_new =\", dx_new)\n",
    "        return dx_new, False\n",
    "\n"
   ]
  },
  {
   "cell_type": "code",
   "execution_count": 11,
   "id": "2db394f3",
   "metadata": {},
   "outputs": [
    {
     "name": "stdout",
     "output_type": "stream",
     "text": [
      "x_stepped =  0.5\n",
      "x_stepped =  0.5\n",
      "DSM =  150770.99519192803\n",
      "FALSE dx_new = 0.02283668510266018\n",
      "x_stepped =  0.02283668510266018\n",
      "DSM =  0.40175738757175083\n",
      "TRUE (dsm<1) dx_new =  0.024665095343026057\n"
     ]
    }
   ],
   "source": [
    "x_stepped, y_5th, y_4th = RKCash_Karp(x0, y0, dx0)\n",
    "x_next, y5, dx_try = RKCK_step(x0, y0, dx0)\n"
   ]
  },
  {
   "cell_type": "code",
   "execution_count": null,
   "id": "eabc3b2f",
   "metadata": {},
   "outputs": [],
   "source": []
  },
  {
   "cell_type": "code",
   "execution_count": 6,
   "id": "42b71f95",
   "metadata": {
    "scrolled": true
   },
   "outputs": [
    {
     "name": "stdout",
     "output_type": "stream",
     "text": [
      "RKCK_step results.....\n",
      "x_next = 0.024711630154164797\n",
      "dx_next = 0.02494979783155771\n",
      "y_next = [1.025021   1.02526348 1.05470029 3.43712681]\n"
     ]
    }
   ],
   "source": [
    "print(\"RKCK_step results.....\")\n",
    "print(\"x_next =\", x_next)\n",
    "print(\"dx_next =\", dx_try)\n",
    "print(\"y_next =\", y5)"
   ]
  },
  {
   "cell_type": "code",
   "execution_count": null,
   "id": "f47651a6",
   "metadata": {},
   "outputs": [],
   "source": []
  },
  {
   "cell_type": "code",
   "execution_count": null,
   "id": "bfd08d59",
   "metadata": {},
   "outputs": [],
   "source": []
  },
  {
   "cell_type": "code",
   "execution_count": null,
   "id": "215633e9",
   "metadata": {},
   "outputs": [],
   "source": []
  }
 ],
 "metadata": {
  "kernelspec": {
   "display_name": "Python 3 (ipykernel)",
   "language": "python",
   "name": "python3"
  },
  "language_info": {
   "codemirror_mode": {
    "name": "ipython",
    "version": 3
   },
   "file_extension": ".py",
   "mimetype": "text/x-python",
   "name": "python",
   "nbconvert_exporter": "python",
   "pygments_lexer": "ipython3",
   "version": "3.9.13"
  }
 },
 "nbformat": 4,
 "nbformat_minor": 5
}
