{
 "cells": [
  {
   "cell_type": "code",
   "execution_count": 1,
   "id": "be6db3e5",
   "metadata": {},
   "outputs": [],
   "source": [
    "import numpy as np"
   ]
  },
  {
   "cell_type": "code",
   "execution_count": 2,
   "id": "e7157752",
   "metadata": {},
   "outputs": [],
   "source": [
    "f = open(\"gl_vals.hh\", \"w\")"
   ]
  },
  {
   "cell_type": "code",
   "execution_count": 3,
   "id": "000009b9",
   "metadata": {},
   "outputs": [
    {
     "data": {
      "text/plain": [
       "43"
      ]
     },
     "execution_count": 3,
     "metadata": {},
     "output_type": "execute_result"
    }
   ],
   "source": [
    "f.write(\"#ifndef _GL_VALS_HH_ \\n#define _GL_VALS_HH_\\n\")"
   ]
  },
  {
   "cell_type": "code",
   "execution_count": 4,
   "id": "b45334b2",
   "metadata": {},
   "outputs": [],
   "source": [
    "n=2\n",
    "x,w = np.polynomial.laguerre.laggauss(n)"
   ]
  },
  {
   "cell_type": "code",
   "execution_count": 5,
   "id": "4f4ff1ec",
   "metadata": {},
   "outputs": [
    {
     "data": {
      "text/plain": [
       "<function TextIOWrapper.write(text, /)>"
      ]
     },
     "execution_count": 5,
     "metadata": {},
     "output_type": "execute_result"
    }
   ],
   "source": [
    "\n",
    "f.write(\"const double xvals_2[\" + str(n) + \"] = {\")\n",
    "for i in x[:-1]:\n",
    "    f.write(str(i) + \",\")\n",
    "f.write(str(x[n-1]) + \"};\\n\")\n",
    "f.write(\"const double wvals_2[\" + str(n) + \"] = {\")\n",
    "for i in w[:-1]:\n",
    "    f.write(str(i) + \",\")\n",
    "f.write(str(w[n-1]) + \"};\\n\")\n",
    "f.write"
   ]
  },
  {
   "cell_type": "code",
   "execution_count": 6,
   "id": "6a0116d0",
   "metadata": {},
   "outputs": [],
   "source": [
    "n=5\n",
    "x,w = np.polynomial.laguerre.laggauss(n)"
   ]
  },
  {
   "cell_type": "code",
   "execution_count": 7,
   "id": "c67af0da",
   "metadata": {},
   "outputs": [
    {
     "data": {
      "text/plain": [
       "<function TextIOWrapper.write(text, /)>"
      ]
     },
     "execution_count": 7,
     "metadata": {},
     "output_type": "execute_result"
    }
   ],
   "source": [
    "\n",
    "f.write(\"const double xvals_5[\" + str(n) + \"] = {\")\n",
    "for i in x[:-1]:\n",
    "    f.write(str(i) + \",\")\n",
    "f.write(str(x[n-1]) + \"};\\n\")\n",
    "f.write(\"const double wvals_5[\" + str(n) + \"] = {\")\n",
    "for i in w[:-1]:\n",
    "    f.write(str(i) + \",\")\n",
    "f.write(str(w[n-1]) + \"};\\n\")\n",
    "f.write"
   ]
  },
  {
   "cell_type": "code",
   "execution_count": 8,
   "id": "cf511ad1",
   "metadata": {},
   "outputs": [],
   "source": [
    "n=10\n",
    "x,w = np.polynomial.laguerre.laggauss(n)"
   ]
  },
  {
   "cell_type": "code",
   "execution_count": 9,
   "id": "4de1ba0a",
   "metadata": {},
   "outputs": [
    {
     "data": {
      "text/plain": [
       "<function TextIOWrapper.write(text, /)>"
      ]
     },
     "execution_count": 9,
     "metadata": {},
     "output_type": "execute_result"
    }
   ],
   "source": [
    "\n",
    "f.write(\"const double xvals_10[\" + str(n) + \"] = {\")\n",
    "for i in x[:-1]:\n",
    "    f.write(str(i) + \",\")\n",
    "f.write(str(x[n-1]) + \"};\\n\")\n",
    "f.write(\"const double wvals_10[\" + str(n) + \"] = {\")\n",
    "for i in w[:-1]:\n",
    "    f.write(str(i) + \",\")\n",
    "f.write(str(w[n-1]) + \"};\\n\")\n",
    "f.write"
   ]
  },
  {
   "cell_type": "code",
   "execution_count": 10,
   "id": "bd652b14",
   "metadata": {},
   "outputs": [],
   "source": [
    "n=50\n",
    "x,w = np.polynomial.laguerre.laggauss(n)"
   ]
  },
  {
   "cell_type": "code",
   "execution_count": 11,
   "id": "228e59ce",
   "metadata": {},
   "outputs": [
    {
     "data": {
      "text/plain": [
       "<function TextIOWrapper.write(text, /)>"
      ]
     },
     "execution_count": 11,
     "metadata": {},
     "output_type": "execute_result"
    }
   ],
   "source": [
    "\n",
    "f.write(\"const double xvals_50[\" + str(n) + \"] = {\")\n",
    "for i in x[:-1]:\n",
    "    f.write(str(i) + \",\")\n",
    "f.write(str(x[n-1]) + \"};\\n\")\n",
    "f.write(\"const double wvals_50[\" + str(n) + \"] = {\")\n",
    "for i in w[:-1]:\n",
    "    f.write(str(i) + \",\")\n",
    "f.write(str(w[n-1]) + \"};\\n\")\n",
    "f.write"
   ]
  },
  {
   "cell_type": "code",
   "execution_count": 12,
   "id": "483d326d",
   "metadata": {},
   "outputs": [
    {
     "data": {
      "text/plain": [
       "7"
      ]
     },
     "execution_count": 12,
     "metadata": {},
     "output_type": "execute_result"
    }
   ],
   "source": [
    "f.write(\"\\n#endif\")"
   ]
  },
  {
   "cell_type": "code",
   "execution_count": 13,
   "id": "107d9bf9",
   "metadata": {},
   "outputs": [],
   "source": [
    "f.close()"
   ]
  },
  {
   "cell_type": "code",
   "execution_count": null,
   "id": "230f2aa6",
   "metadata": {},
   "outputs": [],
   "source": []
  }
 ],
 "metadata": {
  "kernelspec": {
   "display_name": "Python 3 (ipykernel)",
   "language": "python",
   "name": "python3"
  },
  "language_info": {
   "codemirror_mode": {
    "name": "ipython",
    "version": 3
   },
   "file_extension": ".py",
   "mimetype": "text/x-python",
   "name": "python",
   "nbconvert_exporter": "python",
   "pygments_lexer": "ipython3",
   "version": "3.11.7"
  }
 },
 "nbformat": 4,
 "nbformat_minor": 5
}
